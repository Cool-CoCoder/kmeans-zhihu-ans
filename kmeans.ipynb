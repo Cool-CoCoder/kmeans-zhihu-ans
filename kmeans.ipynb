{
 "cells": [
  {
   "cell_type": "code",
   "execution_count": null,
   "metadata": {
    "collapsed": true
   },
   "outputs": [],
   "source": [
    "import numpy as np\n",
    "import random\n",
    "import math\n",
    "from tqdm import tqdm\n",
    "import matplotlib.pyplot as plt\n",
    "num_k = 16"
   ]
  },
  {
   "cell_type": "code",
   "execution_count": null,
   "outputs": [],
   "source": [
    "data = np.load('peppers-large.npy')\n",
    "\n",
    "plt.imshow(data)\n",
    "plt.savefig('ori.png',dpi = 300)\n",
    "plt.show()"
   ],
   "metadata": {
    "collapsed": false
   }
  },
  {
   "cell_type": "code",
   "execution_count": null,
   "outputs": [],
   "source": [
    "def random_select(data,k):\n",
    "    shape = data.shape[:2]\n",
    "    color_list = []\n",
    "    for i in range(shape[0]):\n",
    "        for j in range(shape[1]):\n",
    "            color_list.append(data[i,j])\n",
    "    select_list = []\n",
    "    for i in range(k):\n",
    "        choice = random.randint(0,len(color_list)-1)\n",
    "        select_list.append(color_list[choice])\n",
    "    return select_list\n",
    "\n",
    "def distance(x,y):\n",
    "    x= x.astype(int)\n",
    "    y = y.astype(int)\n",
    "\n",
    "    return ((x[0]-y[0])**2 + (x[1]-y[1])**2 + (x[2]-y[2])**2)\n",
    "\n",
    "def cluster_mean(cluster,num_k):\n",
    "    res  = [None for _ in range(num_k)]\n",
    "    for i in range(num_k):\n",
    "        mean = np.zeros(3)\n",
    "        for j in range(len(cluster[i])):\n",
    "            mean[0] += cluster[i][j][0]\n",
    "            mean[1] += cluster[i][j][1]\n",
    "            mean[2] += cluster[i][j][2]\n",
    "\n",
    "        mean[0]/=len(cluster[i])\n",
    "        mean[1]/=len(cluster[i])\n",
    "        mean[2]/=len(cluster[i])\n",
    "\n",
    "        res[i] = mean\n",
    "    return res\n",
    "\n",
    "# 该函数为核心函数，上方的代码都是一些辅助函数\n",
    "def kmeans(data,num_k,num_epochs = 10):\n",
    "    select_list = random_select(data,num_k)\n",
    "    for e in tqdm(range(num_epochs)):\n",
    "        cluster = [[] for _ in range(num_k)]\n",
    "        shape = data.shape[:2]\n",
    "        for i in range(shape[0]):\n",
    "            for j in range(shape[1]):\n",
    "                temp = [0.0 for _ in range(num_k)]\n",
    "                for k in range(num_k):\n",
    "                    temp[k] = distance(data[i,j],select_list[k])\n",
    "\n",
    "                idx = temp.index(min(temp))\n",
    "\n",
    "                cluster[idx].append(data[i,j])\n",
    "\n",
    "\n",
    "        select_list = cluster_mean(cluster,num_k)\n",
    "    return select_list"
   ],
   "metadata": {
    "collapsed": false
   }
  },
  {
   "cell_type": "code",
   "execution_count": null,
   "outputs": [],
   "source": [
    "res = kmeans(data,num_k)"
   ],
   "metadata": {
    "collapsed": false
   }
  },
  {
   "cell_type": "code",
   "execution_count": null,
   "outputs": [],
   "source": [
    "import numpy as np\n",
    "data = np.load('peppers-large.npy')\n",
    "shape = data.shape[:2]\n",
    "for i in range(shape[0]):\n",
    "    for j in range(shape[1]):\n",
    "        temp = [0.0 for _ in range(num_k)]\n",
    "        for k in range(num_k):\n",
    "            temp[k] = distance(data[i,j],res[k])\n",
    "            # print(i,j,data[i,j],res[k],temp[k])\n",
    "        idx = temp.index(min(temp))\n",
    "        # print(i,j,temp,idx)\n",
    "        data[i,j][0] = res[idx][0]\n",
    "        data[i,j][1] = res[idx][1]\n",
    "        data[i,j][2] = res[idx][2]\n"
   ],
   "metadata": {
    "collapsed": false
   }
  },
  {
   "cell_type": "markdown",
   "source": [
    "绘制结果"
   ],
   "metadata": {
    "collapsed": false
   }
  },
  {
   "cell_type": "code",
   "execution_count": null,
   "outputs": [],
   "source": [
    "from matplotlib import pyplot as plt\n",
    "\n",
    "plt.imshow(data)\n",
    "plt.savefig('ans.png',dpi=300)\n",
    "plt.show()"
   ],
   "metadata": {
    "collapsed": false
   }
  }
 ],
 "metadata": {
  "kernelspec": {
   "display_name": "Python 3",
   "language": "python",
   "name": "python3"
  },
  "language_info": {
   "codemirror_mode": {
    "name": "ipython",
    "version": 2
   },
   "file_extension": ".py",
   "mimetype": "text/x-python",
   "name": "python",
   "nbconvert_exporter": "python",
   "pygments_lexer": "ipython2",
   "version": "2.7.6"
  }
 },
 "nbformat": 4,
 "nbformat_minor": 0
}
